{
 "cells": [
  {
   "cell_type": "code",
   "execution_count": null,
   "id": "65b8be3c",
   "metadata": {},
   "outputs": [],
   "source": [
    "import pandas as pd\n",
    "import matplotlib.pyplot as plt\n",
    "import os\n",
    "from grafo import ler_arquivo_dat\n",
    "\n",
    "arquivo = r\"d:\\Meus arquivos\\Documentos\\GitHub\\projeto_carp_grafos\\selected_instances\\BHW2.dat\"\n",
    "\n",
    "grafo = ler_arquivo_dat(arquivo)\n",
    "\n",
    "estatisticas = {\n",
    "    \"Total de Vértices\": len(grafo.vertices),\n",
    "    \"Total de Arestas\": len(grafo.arestas),\n",
    "    \"Total de Arcos\": len(grafo.arcos),\n",
    "    \"Vértices Requeridos\": len(grafo.vertices_req),\n",
    "    \"Arestas Requeridas\": len(grafo.arestas_req),\n",
    "    \"Arcos Requeridos\": len(grafo.arcos_req),\n",
    "    \"Densidade\": grafo.densidade_grafo(),\n",
    "    \"Grau Mínimo\": grafo.grau_minimo(),\n",
    "    \"Grau Máximo\": grafo.grau_maximo(),\n",
    "    \"Caminho Médio\": grafo.caminho_medio(),\n",
    "    \"Diâmetro\": grafo.diametro(),\n",
    "}\n",
    "\n",
    "df = pd.DataFrame(estatisticas.items(), columns=[\"Métrica\", \"Valor\"])\n",
    "display(df.style.set_caption(f\"📌 Estatísticas da Instância: {os.path.basename(arquivo)}\").set_properties(**{'text-align': 'left'}))\n",
    " \n",
    "metricas_numericas = {k: v for k, v in estatisticas.items() if isinstance(v, (int, float))}\n",
    "\n",
    "plt.figure(figsize=(10, 6))\n",
    "plt.bar(metricas_numericas.keys(), metricas_numericas.values(), color='skyblue')\n",
    "plt.title(f\"Estatísticas da Instância: {os.path.basename(arquivo)}\", fontsize=14)\n",
    "plt.ylabel(\"Valor\")\n",
    "plt.xticks(rotation=45, ha='right')\n",
    "plt.tight_layout()\n",
    "plt.grid(axis='y', linestyle='--', alpha=0.6)\n",
    "plt.show()\n",
    "\n",
    "\n",
    "intermediacao = grafo.mostra_intermediacao() \n"
   ]
  }
 ],
 "metadata": {
  "language_info": {
   "name": "python"
  }
 },
 "nbformat": 4,
 "nbformat_minor": 5
}